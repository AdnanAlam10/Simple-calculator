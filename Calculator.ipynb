{
 "cells": [
  {
   "cell_type": "code",
   "execution_count": 17,
   "metadata": {
    "scrolled": true
   },
   "outputs": [
    {
     "name": "stdout",
     "output_type": "stream",
     "text": [
      "Welcome to the calculator\n",
      "\n",
      "    Please type in the math operation you would like to complete:\n",
      "    + for addition\n",
      "    - for subtraction\n",
      "    * for multiplication\n",
      "    / for division\n",
      "    +\n",
      "Enter first number: 2\n",
      "Enter second number: 2\n",
      "2 + 2 = 4\n",
      "\n",
      "    Do you want to calculate again?\n",
      "    Please type Y for YES or N for NO.\n",
      "    n\n",
      "See you later.\n"
     ]
    }
   ],
   "source": [
    "def calculate():\n",
    "    operator = input('''\n",
    "    Please type in the math operation you would like to complete:\n",
    "    + for addition\n",
    "    - for subtraction\n",
    "    * for multiplication\n",
    "    / for division\n",
    "    ''')\n",
    "\n",
    "    number_1 = int(input(\"Enter first number: \"))\n",
    "    number_2 = int(input(\"Enter second number: \"))\n",
    "\n",
    "    if operator == \"+\":\n",
    "        print(\"{} + {} = {}\" .format(number_1, number_2, number_1+number_2))\n",
    "    elif operator == \"-\":\n",
    "        print(\"{} - {} = {}\" .format(number_1, number_2, number_1-number_2))\n",
    "    elif operator == \"*\":\n",
    "        print(\"{} * {} = {}\" .format(number_1, number_2, number_1*number_2))\n",
    "    elif operator == \"/\":\n",
    "        print(\"{} ÷ {} = {}\" .format(number_1, number_2, number_1/number_2))\n",
    "    else:\n",
    "        print(\"Enter an appropriate operator\")\n",
    "    \n",
    "    again()\n",
    "\n",
    "        \n",
    "def again():\n",
    "    calc_again = input('''\n",
    "    Do you want to calculate again?\n",
    "    Please type Y for YES or N for NO.\n",
    "    ''')\n",
    "\n",
    "    if calc_again.upper() == 'Y':\n",
    "        calculate()\n",
    "    elif calc_again.upper() == 'N':\n",
    "        print('See you later.')\n",
    "    else:\n",
    "        again()\n",
    "\n",
    "print(\"Welcome to the calculator\")\n",
    "calculate()"
   ]
  },
  {
   "cell_type": "code",
   "execution_count": null,
   "metadata": {},
   "outputs": [],
   "source": []
  }
 ],
 "metadata": {
  "kernelspec": {
   "display_name": "Python 3",
   "language": "python",
   "name": "python3"
  },
  "language_info": {
   "codemirror_mode": {
    "name": "ipython",
    "version": 3
   },
   "file_extension": ".py",
   "mimetype": "text/x-python",
   "name": "python",
   "nbconvert_exporter": "python",
   "pygments_lexer": "ipython3",
   "version": "3.7.4"
  }
 },
 "nbformat": 4,
 "nbformat_minor": 2
}
